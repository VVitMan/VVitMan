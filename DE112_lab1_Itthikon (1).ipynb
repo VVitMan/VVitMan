{
  "nbformat": 4,
  "nbformat_minor": 0,
  "metadata": {
    "kernelspec": {
      "display_name": "Python 3",
      "language": "python",
      "name": "python3"
    },
    "language_info": {
      "codemirror_mode": {
        "name": "ipython",
        "version": 3
      },
      "file_extension": ".py",
      "mimetype": "text/x-python",
      "name": "python",
      "nbconvert_exporter": "python",
      "pygments_lexer": "ipython3",
      "version": "3.6.5"
    },
    "colab": {
      "name": "DE112_lab1_Itthikon.ipynb",
      "provenance": [],
      "collapsed_sections": [],
      "toc_visible": true
    }
  },
  "cells": [
    {
      "cell_type": "markdown",
      "metadata": {
        "id": "wrdmAAuPBmLa"
      },
      "source": [
        "# Lab1 Introduction to python\n",
        "**Objectives:** \n",
        "1. Learn how to write python code using Google colab or anaconda Jupyter Notebook.\n",
        "2. Learn how to use print function, simple operators and variables."
      ]
    },
    {
      "cell_type": "markdown",
      "source": [
        "#Question 0 (1 pt)\n",
        "**Question 0**. write the following code to get the version of python on Google colab\n",
        "\n",
        "```\n",
        "!python --version\n",
        "```"
      ],
      "metadata": {
        "id": "dTcqslABVOQU"
      }
    },
    {
      "cell_type": "code",
      "source": [
        "!python --version"
      ],
      "metadata": {
        "id": "cJjx4aDh9dJm",
        "outputId": "12126758-d08f-4c9d-dcc6-40d98039fbd6",
        "colab": {
          "base_uri": "https://localhost:8080/"
        }
      },
      "execution_count": null,
      "outputs": [
        {
          "output_type": "stream",
          "name": "stdout",
          "text": [
            "Python 3.7.13\n"
          ]
        }
      ]
    },
    {
      "cell_type": "markdown",
      "metadata": {
        "id": "aPkJRIxh4Q10"
      },
      "source": [
        "## Errors in programming\n",
        "- Syntax Error (usually in compile time): the compiler is unable to translate programming code to binary code due to incorrect grammar of the written code\n",
        "- Runtime Error: The program execution is unable to proceed further ( e.g., divided by zeros, invalid file location, invalid input format)\n",
        "- Logical Error: The program completes execution with incorrect result\n"
      ]
    },
    {
      "cell_type": "markdown",
      "metadata": {
        "id": "ePX8HJsl_gGR"
      },
      "source": [
        "**Example of Syntax error**\n",
        "\n",
        "In Python 2, 'print' is a statement so you can put multiple arguments next to it and put space in between. For example,\n",
        "\n",
        "    print \"Hello\" \" word\"\n",
        "\n",
        "However, in Python 3, 'print' is a function so arguments must be put inside the parentheses and have a comma in between\n",
        "\n",
        "    print(\"Hello\",\" word\")\n",
        "\n",
        "Otherwise, the compiler generates syntax error to notify a programmmer that parentheses is missing."
      ]
    },
    {
      "cell_type": "code",
      "metadata": {
        "id": "dRii_WrO_Hyc",
        "colab": {
          "base_uri": "https://localhost:8080/"
        },
        "outputId": "76ccd8ae-0afc-4e5f-c407-9fc2d563dd26"
      },
      "source": [
        "print(\"Hello\",\" word\")\n"
      ],
      "execution_count": null,
      "outputs": [
        {
          "output_type": "stream",
          "text": [
            "Hello  word\n"
          ],
          "name": "stdout"
        }
      ]
    },
    {
      "cell_type": "code",
      "source": [
        "print(\"Hello1\",\" word1\")\n",
        "print(\"Hello2\": \" word2\")\n"
      ],
      "metadata": {
        "colab": {
          "base_uri": "https://localhost:8080/",
          "height": 131
        },
        "id": "pAauF6E2WFyP",
        "outputId": "389ae9f2-886f-433a-ac79-863ff793b18c"
      },
      "execution_count": null,
      "outputs": [
        {
          "output_type": "error",
          "ename": "SyntaxError",
          "evalue": "ignored",
          "traceback": [
            "\u001b[0;36m  File \u001b[0;32m\"<ipython-input-3-07bc3277c892>\"\u001b[0;36m, line \u001b[0;32m2\u001b[0m\n\u001b[0;31m    print(\"Hello2\": \" word2\")\u001b[0m\n\u001b[0m                  ^\u001b[0m\n\u001b[0;31mSyntaxError\u001b[0m\u001b[0;31m:\u001b[0m invalid syntax\n"
          ]
        }
      ]
    },
    {
      "cell_type": "code",
      "metadata": {
        "id": "gRyLWIww_h7G",
        "colab": {
          "base_uri": "https://localhost:8080/",
          "height": 145
        },
        "outputId": "ff4791f4-1126-46ca-8b41-5f135f5f0d15"
      },
      "source": [
        "print \"Hello\" \" word\""
      ],
      "execution_count": null,
      "outputs": [
        {
          "output_type": "error",
          "ename": "SyntaxError",
          "evalue": "ignored",
          "traceback": [
            "\u001b[0;36m  File \u001b[0;32m\"<ipython-input-2-99537887f324>\"\u001b[0;36m, line \u001b[0;32m1\u001b[0m\n\u001b[0;31m    print \"Hello\" \" word\"\u001b[0m\n\u001b[0m                ^\u001b[0m\n\u001b[0;31mSyntaxError\u001b[0m\u001b[0;31m:\u001b[0m Missing parentheses in call to 'print'. Did you mean print(\"Hello\" \" word\")?\n"
          ]
        }
      ]
    },
    {
      "cell_type": "markdown",
      "metadata": {
        "id": "XdEQc_AqByDv"
      },
      "source": [
        "**Example of Runtime error**\n",
        "\n",
        "Usually '/' is a division operator that takes two input and compute the result. However, runtime error can occur when the divisor is zero (it is called ZeroDivisionError).\n",
        "\n"
      ]
    },
    {
      "cell_type": "code",
      "metadata": {
        "id": "w9UBjLO9D1cc",
        "colab": {
          "base_uri": "https://localhost:8080/"
        },
        "outputId": "0f684586-bdda-441e-9a92-8c9561fed023"
      },
      "source": [
        "print(\"Program start\")\n",
        "a = 20\n",
        "b = 4\n",
        "print(a/b)\n",
        "print(\"Program End\")\n"
      ],
      "execution_count": null,
      "outputs": [
        {
          "output_type": "stream",
          "name": "stdout",
          "text": [
            "Program start\n",
            "5.0\n"
          ]
        }
      ]
    },
    {
      "cell_type": "code",
      "metadata": {
        "id": "n5m-7537Do2u"
      },
      "source": [
        "print(\"Program start\")\n",
        "a = 20\n",
        "b = 0\n",
        "print(a/b)\n",
        "print(\"Program End\")\n"
      ],
      "execution_count": null,
      "outputs": []
    },
    {
      "cell_type": "markdown",
      "source": [
        "#Question 1 (2 pt)\n",
        "Given the following blocks of code (line 1-6), after the program terminates which lines of code were executed, which line of code caused runtime error, and which lines of code were not executed."
      ],
      "metadata": {
        "id": "wiMzQemjWtoG"
      }
    },
    {
      "cell_type": "code",
      "source": [
        "print(\"Program start\")\n",
        "a = 20\n",
        "print(a)\n",
        "b = 0\n",
        "print(a/b)\n",
        "print(\"Program End\")"
      ],
      "metadata": {
        "id": "yqX6SmXpWfDS"
      },
      "execution_count": null,
      "outputs": []
    },
    {
      "cell_type": "markdown",
      "source": [
        "which lines of code were executed : 1-4\n",
        "which line of code caused runtime error : 5\n",
        "which lines of code were not executed : 6"
      ],
      "metadata": {
        "id": "WnL-2V6u-AaL"
      }
    },
    {
      "cell_type": "markdown",
      "metadata": {
        "id": "HHl_0l0sCB1X"
      },
      "source": [
        "**Example of Logical error**\n",
        "In this case, the program runs until completed but produces the invalid output\n",
        "This could cause by inaapropriate use of statement. For example, if a user wants to write code to compute the average between two number, the equation should be: \n",
        "    average = (a+b)/2. \n",
        "However, the inappropriate use of statement could produce inaccurate result.\n",
        "\n",
        "\n",
        "    "
      ]
    },
    {
      "cell_type": "code",
      "metadata": {
        "id": "twFv76fRFk-S"
      },
      "source": [
        "a = float(input(\"Value of a: \"))\n",
        "b = float(input(\"Value of b: \"))\n",
        "average = (a+b)/2\n",
        "print(\"The average between the two number is: \" , average2)"
      ],
      "execution_count": null,
      "outputs": []
    },
    {
      "cell_type": "code",
      "metadata": {
        "id": "ZK3gxw97G8UA"
      },
      "source": [
        "a = float(input(\"Value of a: \"))\n",
        "b = float(input(\"Value of b: \"))\n",
        "average = a+b/2\n",
        "print(\"The average between the two number is: \" , average)"
      ],
      "execution_count": null,
      "outputs": []
    },
    {
      "cell_type": "markdown",
      "metadata": {
        "id": "EIJJT_474Z5L"
      },
      "source": [
        "# Python basic syntax\n",
        "Ref: https://www.tutorialspoint.com/python/python_basic_syntax.htm"
      ]
    },
    {
      "cell_type": "markdown",
      "metadata": {
        "id": "REqi4LF_7vSi"
      },
      "source": [
        "**Function print() in Python**\n",
        "\n",
        "The print() function prints the number of specified messages with a comma (,) between them to the screen, or other standard output device.\n",
        "\n",
        "The message can be a string, number, or any other object, the object will be converted into a string before written to the screen.\n",
        "    \n",
        "    print(\"This is my first program\")\n",
        "    print(555)\n",
        "    print(555,666)\n",
        "\n"
      ]
    },
    {
      "cell_type": "code",
      "metadata": {
        "colab": {
          "base_uri": "https://localhost:8080/"
        },
        "id": "fb76-oDH8hP5",
        "outputId": "8c918022-b48e-410e-9a3d-0afcd7dcf794"
      },
      "source": [
        "print(\"This is my first program\")\n",
        "print(555,666)"
      ],
      "execution_count": null,
      "outputs": [
        {
          "output_type": "stream",
          "text": [
            "This is my first program\n",
            "555 666\n"
          ],
          "name": "stdout"
        }
      ]
    },
    {
      "cell_type": "markdown",
      "metadata": {
        "id": "wP8Jko9n4eWz"
      },
      "source": [
        "**Comments in Python**\n",
        "\n",
        "A hash sign (#) that is not inside a string literal begins a comment. All characters after the # and up to the end of the physical line are part of the comment and the Python interpreter ignores them.\n",
        "    # this is a comment, the statement won't run"
      ]
    },
    {
      "cell_type": "code",
      "metadata": {
        "colab": {
          "base_uri": "https://localhost:8080/"
        },
        "id": "nPvioa-K42ME",
        "outputId": "2212292f-3138-4c13-9465-cabf12c3aed4"
      },
      "source": [
        "print(\"This is my first program\")\n",
        "# print(\"Hello world\")\n"
      ],
      "execution_count": null,
      "outputs": [
        {
          "output_type": "stream",
          "text": [
            "This is my first program\n"
          ],
          "name": "stdout"
        }
      ]
    },
    {
      "cell_type": "markdown",
      "metadata": {
        "id": "RloPHVzP6hEv"
      },
      "source": [
        "**Quotation in Python**\n",
        "\n",
        "Python accepts single ('), double (\") and triple (''' or \"\"\") quotes to denote string literals, as long as the same type of quote starts and ends the string.\n",
        "\n",
        "    print('This is my first statement')\n",
        "    print(\"This is my second statement\")\n",
        "The triple quotes are used to span the string across multiple lines. For example, all the following are legal −\n",
        "\n",
        "    print('''This is my third\n",
        "         statement''')"
      ]
    },
    {
      "cell_type": "code",
      "metadata": {
        "colab": {
          "base_uri": "https://localhost:8080/"
        },
        "id": "w1lniGtV7C_R",
        "outputId": "9eb316f0-7b1c-4430-9958-a24f6362328f"
      },
      "source": [
        "print('This is my first statement')\n",
        "print(\"This is my second statement\")\n",
        "print('''This is my third\n",
        "     statement''')"
      ],
      "execution_count": null,
      "outputs": [
        {
          "output_type": "stream",
          "text": [
            "This is my first statement\n",
            "This is my second statement\n",
            "This is my third\n",
            "     statement\n"
          ],
          "name": "stdout"
        }
      ]
    },
    {
      "cell_type": "markdown",
      "metadata": {
        "id": "QyVcWgdo9Ekp"
      },
      "source": [
        "**Variables**\n",
        "\n",
        "Variables are containers for storing data values. In Python, there is no command for declaring a variable. A variable is created the moment you first assign a value to it. The value is assigned to a variable by using equal sign (=) as an assignment operator (the right side is the value (evaluted from the statement) assigned to the single variable on the left side \n",
        "\n",
        "    a = 20\n",
        "    b = 20/8\n",
        "    print(a)\n",
        "    print(b)\n"
      ]
    },
    {
      "cell_type": "code",
      "metadata": {
        "colab": {
          "base_uri": "https://localhost:8080/"
        },
        "id": "FNHqmEjm-_Eg",
        "outputId": "fcd847a0-eb82-4da7-c144-fa4d3bcdc63c"
      },
      "source": [
        "    a = 20\n",
        "    b = 20/8\n",
        "    print(a)\n",
        "    print(b)\n"
      ],
      "execution_count": null,
      "outputs": [
        {
          "output_type": "stream",
          "text": [
            "20\n",
            "2.5\n"
          ],
          "name": "stdout"
        }
      ]
    },
    {
      "cell_type": "markdown",
      "metadata": {
        "id": "w15wbQm_lG2S"
      },
      "source": [
        "**Python Indentation**\n",
        "\n",
        "Indentation refers to the spaces at the beginning of a code line. Where in other programming languages the indentation in code is for readability only, the indentation in Python is very important. Python uses indentation to indicate a block of code.  If the statements are in the same indentation level, they belong to the same block.  If a block is more deeply nested, it is  indented further to the right. For example, \n",
        "    # Python program showing indentation\n",
        "    site = 'gfg'\n",
        "    if site == 'gfg':\n",
        "      print('Logging on to geeksforgeeks...')\n",
        "    else:\n",
        "      print('retype the URL.')\n",
        "    print('All set !')\n",
        "\n"
      ]
    },
    {
      "cell_type": "code",
      "metadata": {
        "colab": {
          "base_uri": "https://localhost:8080/"
        },
        "id": "uXFNoS3in9V-",
        "outputId": "fdd4225a-d577-496e-8678-6adde49c6fb8"
      },
      "source": [
        "    # Python program showing indentation\n",
        "    site = 'gfg'\n",
        "    if site == 'gfg':\n",
        "      print('Logging on to geeksforgeeks...')\n",
        "    else:\n",
        "      print('retype the URL.')\n",
        "    print('All set !')"
      ],
      "execution_count": null,
      "outputs": [
        {
          "output_type": "stream",
          "text": [
            "Logging on to geeksforgeeks...\n",
            "All set !\n"
          ],
          "name": "stdout"
        }
      ]
    },
    {
      "cell_type": "markdown",
      "metadata": {
        "id": "s5GQcF7yn_lu"
      },
      "source": [
        "Note that putting indentation when statements are not nested could result in indentation error.\n",
        "\n",
        "    print(\"First line\")\n",
        "      print(\"Second line\")\n"
      ]
    },
    {
      "cell_type": "code",
      "metadata": {
        "id": "GEwjEtQro-K-"
      },
      "source": [
        "print(\"First line\")\n",
        "  print(\"Second line\")"
      ],
      "execution_count": null,
      "outputs": []
    },
    {
      "cell_type": "code",
      "source": [
        ""
      ],
      "metadata": {
        "id": "K-_gk90kVVpp"
      },
      "execution_count": null,
      "outputs": []
    },
    {
      "cell_type": "markdown",
      "metadata": {
        "id": "IObQrSgoLWyy"
      },
      "source": [
        "# Question 2 (1 pt)"
      ]
    },
    {
      "cell_type": "markdown",
      "metadata": {
        "id": "0Ui3i1FkBmLZ"
      },
      "source": [
        "Modify the following code to print out your name and ID here:"
      ]
    },
    {
      "cell_type": "code",
      "metadata": {
        "colab": {
          "base_uri": "https://localhost:8080/"
        },
        "id": "vZvFV-Fseryh",
        "outputId": "884aaf2d-434a-4c19-80ca-b581ae54b9b4"
      },
      "source": [
        "print(\"Itthikon\",\"Amonkhana\")\n",
        "print(\"65102010172\")\n"
      ],
      "execution_count": null,
      "outputs": [
        {
          "output_type": "stream",
          "name": "stdout",
          "text": [
            "Itthikon Amonkhana\n",
            "65102010172\n"
          ]
        }
      ]
    },
    {
      "cell_type": "markdown",
      "metadata": {
        "id": "Pot6yjVsLdcL"
      },
      "source": [
        "# Question 3 (2 pt)"
      ]
    },
    {
      "cell_type": "markdown",
      "metadata": {
        "id": "ozCWDGepf7xB"
      },
      "source": [
        "Write code to print out the result of the following expression:\n",
        "\n",
        "1. 5 + 5 - 10\n",
        "\n",
        "2. (2*3)-5\n",
        "\n",
        "3. (10/2)-5\n",
        "\n",
        "4. 2**3 # 2 to the power 3 \n",
        "\n",
        "5. 12%3 # 12 modulo 3 \n",
        "\n",
        "\n"
      ]
    },
    {
      "cell_type": "code",
      "metadata": {
        "id": "_CeftYdlgQaQ",
        "colab": {
          "base_uri": "https://localhost:8080/"
        },
        "outputId": "946b3ad3-0c34-45f5-f1cf-8eba34af0c53"
      },
      "source": [
        "print(\"5+5-10 = \", 5+5-10)\n",
        "print(\"(2*3)-5 = \", (2*3)-5)\n",
        "print(\"(10/2)-5 = \", (10/2)-5)\n",
        "print(\"2**3 = \", 2**3)\n",
        "print(\"12%3 = \", 12%3)"
      ],
      "execution_count": null,
      "outputs": [
        {
          "output_type": "stream",
          "name": "stdout",
          "text": [
            "5+5-10 =  0\n",
            "(2*3)-5 =  1\n",
            "(10/2)-5 =  0.0\n",
            "2**3 =  8\n",
            "12%3 =  0\n"
          ]
        }
      ]
    },
    {
      "cell_type": "markdown",
      "metadata": {
        "id": "2mCEnnZLLmLa"
      },
      "source": [
        "# # Question 4 (2 pt)"
      ]
    },
    {
      "cell_type": "markdown",
      "metadata": {
        "id": "3NToI_ilhPvQ"
      },
      "source": [
        "Write code to assign values to variables and print value stored in those variables as follows\n",
        "\n",
        "  1. Assign the value 10000 to variable named saving_amount\n",
        "\n",
        "  2. Assign the value 0.07 to variable named interest_rate\n",
        "\n",
        "  3. Assign the value saving_amount*interest_rate to variable named interest_amount\n",
        "  4.  Update the value saving_amount+interest_amount variable named saving_amount\n",
        "\n",
        "  5. print value stored in saving_amount\n",
        "\n",
        "  6. print value stored in interest_rate\n",
        "\n",
        "  7. print value stored in interest_amount\n",
        " "
      ]
    },
    {
      "cell_type": "code",
      "metadata": {
        "id": "oKu0TKJOfyFp",
        "colab": {
          "base_uri": "https://localhost:8080/"
        },
        "outputId": "98f7292a-fa1b-4c43-b87f-d237f752adc5"
      },
      "source": [
        "#Savings interest calculation\n",
        "\n",
        "#Put your code here\n",
        "#  1. Assign the value 10000 to variable named saving_amount\n",
        "saving_amount = 10000\n",
        "#  2. Assign the value 0.07 to variable named interest_rate\n",
        "interest_rate = 0.07\n",
        "#  3. Assign the value saving_amount*interest_rate to variable named interest_amount\n",
        "interest_amount = saving_amount*interest_rate\n",
        "#  4.  Update the value saving_amount+interest_amount to variable named saving_amount\n",
        "saving_amount = saving_amount+interest_amount\n",
        "#  5. print value stored in saving_amount\n",
        "print(\"saving_amount: \", saving_amount)    \n",
        "#  6. print value stored in interest_rate\n",
        "print(\"interest_rate: \", interest_rate)\n",
        "#  7. print value stored in interest_amount \n",
        "print(\"interest_amount: \", interest_amount)"
      ],
      "execution_count": null,
      "outputs": [
        {
          "output_type": "stream",
          "name": "stdout",
          "text": [
            "saving_amount:  10700.0\n",
            "interest_rate:  0.07\n",
            "interest_amount:  700.0000000000001\n"
          ]
        }
      ]
    },
    {
      "cell_type": "markdown",
      "metadata": {
        "id": "nsfvOPUCLrBb"
      },
      "source": [
        "# Question 5 (2 pt)"
      ]
    },
    {
      "cell_type": "markdown",
      "metadata": {
        "id": "G0NleJhLkEdQ"
      },
      "source": [
        "Write code to assign values to variables and print value stored in those variables as follows\n",
        "\n",
        "  1. Assign the value 55 to variable named weight\n",
        "\n",
        "  2. Assign the value 1.60 to variable named height\n",
        "\n",
        "  3. Assign the value weight/height**2 to variable named bmi\n",
        "\n",
        "  4. print value stored in weight\n",
        "\n",
        "  5. print value stored in height\n",
        "\n",
        "  6. print value stored in bmi\n",
        " "
      ]
    },
    {
      "cell_type": "code",
      "metadata": {
        "id": "DGJRgtrlkY2S",
        "colab": {
          "base_uri": "https://localhost:8080/"
        },
        "outputId": "4f1b217e-025f-48fd-af63-0cccc8d7215a"
      },
      "source": [
        "#Body Mass Index calculation\n",
        "#Put your code here \n",
        "weight = 55\n",
        "height = 1.60\n",
        "bmi = weight/height**2\n",
        "#4. print value stored in weight\n",
        "print('weight: ',weight)\n",
        "#5. print value stored in height\n",
        "print('height: ',height)\n",
        "#6. print value stored in bmi\n",
        "print('bmi: ',bmi)\n"
      ],
      "execution_count": null,
      "outputs": [
        {
          "output_type": "stream",
          "name": "stdout",
          "text": [
            "weight:  55\n",
            "height:  1.6\n",
            "bmi:  21.484374999999996\n"
          ]
        }
      ]
    }
  ]
}